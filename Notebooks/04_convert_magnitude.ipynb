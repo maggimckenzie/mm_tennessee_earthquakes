{
 "cells": [
  {
   "cell_type": "code",
   "execution_count": 1,
   "metadata": {},
   "outputs": [],
   "source": [
    "import pandas as pd"
   ]
  },
  {
   "cell_type": "code",
   "execution_count": 2,
   "metadata": {},
   "outputs": [],
   "source": [
    "eq_table = pd.read_csv('../Data/03_earthquakes_with_deaths.csv', index_col=False)"
   ]
  },
  {
   "cell_type": "code",
   "execution_count": 3,
   "metadata": {},
   "outputs": [
    {
     "data": {
      "text/plain": [
       "array(['MJMA', 'Muk', 'Mw', 'Ms', 'ML', 'mb', nan, None, 'Lg', 'Md', 'Mb'],\n",
       "      dtype=object)"
      ]
     },
     "execution_count": 3,
     "metadata": {},
     "output_type": "execute_result"
    }
   ],
   "source": [
    "eq_table['magnitude'].str.split(expand=True)[1].unique()"
   ]
  },
  {
   "cell_type": "code",
   "execution_count": 4,
   "metadata": {},
   "outputs": [],
   "source": [
    "eq_table[['original_magnitude','original_magnitude_scale']] = eq_table['magnitude'].str.split(expand=True, n=1)"
   ]
  },
  {
   "cell_type": "code",
   "execution_count": 5,
   "metadata": {
    "scrolled": true
   },
   "outputs": [],
   "source": [
    "eq_table['original_magnitude'] = pd.to_numeric(eq_table['original_magnitude'])"
   ]
  },
  {
   "cell_type": "markdown",
   "metadata": {},
   "source": [
    "# Conversion"
   ]
  },
  {
   "cell_type": "markdown",
   "metadata": {},
   "source": [
    "The following is an example of how we can convert magnitudes to a similar scale; however, as seen in https://www.researchgate.net/publication/292771405_Globally_valid_relations_converting_Ms_mb_and_MJMA_to_Mw the scales are very similar"
   ]
  },
  {
   "cell_type": "code",
   "execution_count": 6,
   "metadata": {},
   "outputs": [],
   "source": [
    "# ms_mag = eq_table[eq_table['original_magnitude_scale'].str.lower() == 'ms']"
   ]
  },
  {
   "cell_type": "code",
   "execution_count": 7,
   "metadata": {},
   "outputs": [],
   "source": [
    "# def ms_to_mw(row):\n",
    "#     result = float(row['original_magnitude'])\n",
    "#     if 3.0 <= result <= 6.1:\n",
    "#         result += 2.20\n",
    "#     elif 6.2 <= result <= 8.0:\n",
    "#         result -= 0.02\n",
    "#     return result"
   ]
  },
  {
   "cell_type": "code",
   "execution_count": 8,
   "metadata": {},
   "outputs": [],
   "source": [
    "# ms_mag['mag_in_mw'] = ms_mag.apply(ms_to_mw, axis=1)"
   ]
  },
  {
   "cell_type": "code",
   "execution_count": 9,
   "metadata": {},
   "outputs": [],
   "source": [
    "# def ms_to_mw(row):\n",
    "#     result = row['original_magnitude']\n",
    "#     if 3.0 <= result <= 6.1:\n",
    "#         result += 2.20\n",
    "#     elif 6.2 <= result <= 8.0:\n",
    "#         result -= 0.02\n",
    "#     return result"
   ]
  },
  {
   "cell_type": "code",
   "execution_count": 10,
   "metadata": {},
   "outputs": [],
   "source": [
    "eq_table.to_csv('../Data/04_deadly_eq_mag_cleaned.csv', index=False)"
   ]
  },
  {
   "cell_type": "code",
   "execution_count": null,
   "metadata": {},
   "outputs": [],
   "source": []
  }
 ],
 "metadata": {
  "kernelspec": {
   "display_name": "Python 3",
   "language": "python",
   "name": "python3"
  },
  "language_info": {
   "codemirror_mode": {
    "name": "ipython",
    "version": 3
   },
   "file_extension": ".py",
   "mimetype": "text/x-python",
   "name": "python",
   "nbconvert_exporter": "python",
   "pygments_lexer": "ipython3",
   "version": "3.8.3"
  }
 },
 "nbformat": 4,
 "nbformat_minor": 4
}
