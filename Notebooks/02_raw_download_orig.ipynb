{
 "cells": [
  {
   "cell_type": "code",
   "execution_count": 24,
   "metadata": {},
   "outputs": [],
   "source": [
    "import requests\n",
    "from bs4 import BeautifulSoup as bs\n",
    "import pandas as pd\n",
    "#import geopandas as gpd"
   ]
  },
  {
   "cell_type": "markdown",
   "metadata": {},
   "source": [
    "# Part 2 Data Retrieval\n",
    "Use the `requests` library and the USGS's API (https://earthquake.usgs.gov/fdsnws/event/1/) to retrieve information about all recorded earthquakes that occurred in Tennessee since 1900.\n",
    "Answer the following questions:"
   ]
  },
  {
   "cell_type": "code",
   "execution_count": 5,
   "metadata": {},
   "outputs": [],
   "source": [
    "url = 'https://earthquake.usgs.gov/fdsnws/event/1/catalogs'"
   ]
  },
  {
   "cell_type": "code",
   "execution_count": 6,
   "metadata": {},
   "outputs": [],
   "source": [
    "r = requests.get(url)"
   ]
  },
  {
   "cell_type": "code",
   "execution_count": 7,
   "metadata": {},
   "outputs": [
    {
     "data": {
      "text/plain": [
       "'<?xml version=\"1.0\"?>\\n<Catalogs><Catalog>38457511</Catalog><Catalog>=c</Catalog><Catalog>ak</Catalog><Catalog>at</Catalog><Catalog>atlas</Catalog><Catalog>av</Catalog><Catalog>cdmg</Catalog><Catalog>cgs</Catalog><Catalog>choy</Catalog><Catalog>ci</Catalog><Catalog>cidev</Catalog><Catalog>dr</Catalog><Catalog>duputel</Catalog><Catalog>eqh</Catalog><Catalog>ew</Catalog><Catalog>ew_dm</Catalog><Catalog>gcmt</Catalog><Catalog>gsc</Catalog><Catalog>hv</Catalog><Catalog>id</Catalog><Catalog>is</Catalog><Catalog>iscgem</Catalog><Catalog>iscgemsup</Catalog><Catalog>ismpkansas</Catalog><Catalog>ld</Catalog><Catalog>mb</Catalog><Catalog>nc</Catalog><Catalog>ne</Catalog><Catalog>nm</Catalog><Catalog>nn</Catalog><Catalog>official</Catalog><Catalog>official19631013051759_30</Catalog><Catalog>ok</Catalog><Catalog>pr</Catalog><Catalog>pt</Catalog><Catalog>sc</Catalog><Catalog>se</Catalog><Catalog>unknown</Catalog><Catalog>us</Catalog><Catalog>ushis</Catalog><Catalog>uu</Catalog><Catalog>uw</Catalog></Catalogs>'"
      ]
     },
     "execution_count": 7,
     "metadata": {},
     "output_type": "execute_result"
    }
   ],
   "source": [
    "r.text"
   ]
  },
  {
   "cell_type": "code",
   "execution_count": 8,
   "metadata": {},
   "outputs": [],
   "source": [
    "catalogs = bs(r.text)"
   ]
  },
  {
   "cell_type": "code",
   "execution_count": 9,
   "metadata": {
    "collapsed": true
   },
   "outputs": [
    {
     "data": {
      "text/plain": [
       "<?xml version=\"1.0\"?><html><body><catalogs><catalog>38457511</catalog><catalog>=c</catalog><catalog>ak</catalog><catalog>at</catalog><catalog>atlas</catalog><catalog>av</catalog><catalog>cdmg</catalog><catalog>cgs</catalog><catalog>choy</catalog><catalog>ci</catalog><catalog>cidev</catalog><catalog>dr</catalog><catalog>duputel</catalog><catalog>eqh</catalog><catalog>ew</catalog><catalog>ew_dm</catalog><catalog>gcmt</catalog><catalog>gsc</catalog><catalog>hv</catalog><catalog>id</catalog><catalog>is</catalog><catalog>iscgem</catalog><catalog>iscgemsup</catalog><catalog>ismpkansas</catalog><catalog>ld</catalog><catalog>mb</catalog><catalog>nc</catalog><catalog>ne</catalog><catalog>nm</catalog><catalog>nn</catalog><catalog>official</catalog><catalog>official19631013051759_30</catalog><catalog>ok</catalog><catalog>pr</catalog><catalog>pt</catalog><catalog>sc</catalog><catalog>se</catalog><catalog>unknown</catalog><catalog>us</catalog><catalog>ushis</catalog><catalog>uu</catalog><catalog>uw</catalog></catalogs></body></html>"
      ]
     },
     "execution_count": 9,
     "metadata": {},
     "output_type": "execute_result"
    }
   ],
   "source": [
    "catalogs"
   ]
  },
  {
   "cell_type": "code",
   "execution_count": 10,
   "metadata": {},
   "outputs": [],
   "source": [
    "cat_list = catalogs.find_all('catalog')"
   ]
  },
  {
   "cell_type": "code",
   "execution_count": 11,
   "metadata": {
    "collapsed": true
   },
   "outputs": [
    {
     "data": {
      "text/plain": [
       "[<catalog>38457511</catalog>,\n",
       " <catalog>=c</catalog>,\n",
       " <catalog>ak</catalog>,\n",
       " <catalog>at</catalog>,\n",
       " <catalog>atlas</catalog>,\n",
       " <catalog>av</catalog>,\n",
       " <catalog>cdmg</catalog>,\n",
       " <catalog>cgs</catalog>,\n",
       " <catalog>choy</catalog>,\n",
       " <catalog>ci</catalog>,\n",
       " <catalog>cidev</catalog>,\n",
       " <catalog>dr</catalog>,\n",
       " <catalog>duputel</catalog>,\n",
       " <catalog>eqh</catalog>,\n",
       " <catalog>ew</catalog>,\n",
       " <catalog>ew_dm</catalog>,\n",
       " <catalog>gcmt</catalog>,\n",
       " <catalog>gsc</catalog>,\n",
       " <catalog>hv</catalog>,\n",
       " <catalog>id</catalog>,\n",
       " <catalog>is</catalog>,\n",
       " <catalog>iscgem</catalog>,\n",
       " <catalog>iscgemsup</catalog>,\n",
       " <catalog>ismpkansas</catalog>,\n",
       " <catalog>ld</catalog>,\n",
       " <catalog>mb</catalog>,\n",
       " <catalog>nc</catalog>,\n",
       " <catalog>ne</catalog>,\n",
       " <catalog>nm</catalog>,\n",
       " <catalog>nn</catalog>,\n",
       " <catalog>official</catalog>,\n",
       " <catalog>official19631013051759_30</catalog>,\n",
       " <catalog>ok</catalog>,\n",
       " <catalog>pr</catalog>,\n",
       " <catalog>pt</catalog>,\n",
       " <catalog>sc</catalog>,\n",
       " <catalog>se</catalog>,\n",
       " <catalog>unknown</catalog>,\n",
       " <catalog>us</catalog>,\n",
       " <catalog>ushis</catalog>,\n",
       " <catalog>uu</catalog>,\n",
       " <catalog>uw</catalog>]"
      ]
     },
     "execution_count": 11,
     "metadata": {},
     "output_type": "execute_result"
    }
   ],
   "source": [
    "cat_list"
   ]
  },
  {
   "cell_type": "code",
   "execution_count": 12,
   "metadata": {},
   "outputs": [],
   "source": [
    "cats = [cat.text.strip() for cat in cat_list]"
   ]
  },
  {
   "cell_type": "code",
   "execution_count": 13,
   "metadata": {},
   "outputs": [
    {
     "data": {
      "text/plain": [
       "['38457511',\n",
       " '=c',\n",
       " 'ak',\n",
       " 'at',\n",
       " 'atlas',\n",
       " 'av',\n",
       " 'cdmg',\n",
       " 'cgs',\n",
       " 'choy',\n",
       " 'ci',\n",
       " 'cidev',\n",
       " 'dr',\n",
       " 'duputel',\n",
       " 'eqh',\n",
       " 'ew',\n",
       " 'ew_dm',\n",
       " 'gcmt',\n",
       " 'gsc',\n",
       " 'hv',\n",
       " 'id',\n",
       " 'is',\n",
       " 'iscgem',\n",
       " 'iscgemsup',\n",
       " 'ismpkansas',\n",
       " 'ld',\n",
       " 'mb',\n",
       " 'nc',\n",
       " 'ne',\n",
       " 'nm',\n",
       " 'nn',\n",
       " 'official',\n",
       " 'official19631013051759_30',\n",
       " 'ok',\n",
       " 'pr',\n",
       " 'pt',\n",
       " 'sc',\n",
       " 'se',\n",
       " 'unknown',\n",
       " 'us',\n",
       " 'ushis',\n",
       " 'uu',\n",
       " 'uw']"
      ]
     },
     "execution_count": 13,
     "metadata": {},
     "output_type": "execute_result"
    }
   ],
   "source": [
    "cats"
   ]
  },
  {
   "cell_type": "code",
   "execution_count": 25,
   "metadata": {},
   "outputs": [],
   "source": [
    "url2 = 'https://earthquake.usgs.gov/fdsnws/event/1/query?format=csv&catalog=nm'"
   ]
  },
  {
   "cell_type": "code",
   "execution_count": 26,
   "metadata": {},
   "outputs": [],
   "source": [
    "r = requests.get(url2)"
   ]
  },
  {
   "cell_type": "code",
   "execution_count": 27,
   "metadata": {
    "collapsed": true
   },
   "outputs": [
    {
     "data": {
      "text/plain": [
       "'time,latitude,longitude,depth,mag,magType,nst,gap,dmin,rms,net,id,updated,place,type,horizontalError,depthError,magError,magNst,status,locationSource,magSource\\n2020-10-20T18:50:21.820Z,36.2736664,-89.5159988,7.42,2.28,md,19,51,0.1735,0.22,nm,nm60312672,2020-10-20T18:59:10.420Z,\"2 km WNW of Ridgely, Tennessee\",earthquake,0.45,1.77,0.29,12,reviewed,nm,nm\\n2020-10-20T04:56:57.790Z,36.458,-89.5321667,8.67,1.48,md,26,42,0.07238,0.05,nm,nm60312667,2020-10-20T16:50:36.840Z,\"9 km SE of Marston, Missouri\",earthquake,0.81,1.09,0.112,18,reviewed,nm,nm\\n2020-10-19T20:31:16.660Z,36.4196667,-89.499,7.78,1.3,md,16,87,0.03247,0.02,nm,nm60312652,2020-10-20T19:06:10.270Z,\"southeastern Missouri\",earthquake,0.35,0.62,0.101,13,reviewed,nm,nm\\n2020-10-19T05:15:25.090Z,36.2095,-89.4761667,6.33,1.59,md,16,59,0.04374,0.05,nm,nm60312582,2020-10-19T13:03:45.780Z,\"6 km S of Ridgely, Tennessee\",earthquake,0.26,0.56,0.086,14,reviewed,nm,nm\\n2020-10-17T20:09:11.850Z,36.6013333,-89.5796667,10.79,1.22,md,18,51,0.02594,0.07,nm,nm60312517,2020-10-19T14:08:45.320Z,\"3 km ENE of Lilbourn, Missouri\",earthquake,0.54,0.96,0.053,12,reviewed,nm,nm\\n2020-10-16T09:38:42.350Z,37.715,-89.703,2.49,1.77,md,25,157,0.3559,0.19,nm,nm60115323,2020-10-16T12:32:47.060Z,\"8 km NE of Longtown, Missouri\",earthquake,0.4,5.09,0.088,19,reviewed,nm,nm\\n2020-10-16T02:28:36.570Z,36.1175,-89.7346667,9.95,2.16,md,32,36,0.02656,0.03,nm,nm60312372,2020-10-16T14:03:24.840Z,\"9 km ENE of Steele, Missouri\",earthquake,0.36,0.54,0.119,25,reviewed,nm,nm\\n2020-10-14T01:08:11.460Z,37.0575,-92.8966667,3.16,2.32,md,10,153,0.5992,0.09,nm,nm60115123,2020-10-14T16:30:50.290Z,\"11 km SSE of Fordland, Missouri\",earthquake,0.48,1.55,0.088,10,reviewed,nm,nm\\n2020-10-14T00:13:02.350Z,36.1251667,-89.7156667,10.16,1.83,md,33,57,0.01221,0.22,nm,nm60312142,2020-10-15T15:48:43.200Z,\"9 km SW of Caruthersville, Missouri\",earthquake,0.87,1.06,0.14,16,reviewed,nm,nm\\n2020-10-13T21:48:14.120Z,36.43,-90.8283333,10.08,2.51,md,6,154,0.4454,0.22,nm,nm60115023,2020-10-14T22:01:02.040Z,\"6 km E of Maynard, Arkansas\",earthquake,0.78,6.87,0.051,5,reviewed,nm,nm\\n2020-10-13T19:33:11.600Z,36.0683333,-89.8033333,6.88,1.94,md,22,50,0.06515,0.11,nm,nm60312087,2020-10-14T12:38:35.270Z,\"2 km NNE of Cooter, Missouri\",earthquake,0.22,0.55,0.101,13,reviewed,nm,nm\\n2020-10-13T07:28:58.390Z,36.1373333,-91.3603333,5.08,1.86,md,5,99,0.1801,0.07,nm,nm60114923,2020-10-13T16:36:10.300Z,\"8 km NW of Smithville, Arkansas\",earthquake,0.93,7.62,0.13,4,reviewed,nm,nm\\n2020-10-13T00:54:37.140Z,36.1415,-89.4576667,11.47,1.25,md,16,58,0.04641,0.16,nm,nm60312032,2020-10-15T17:36:47.360Z,\"13 km NNW of Dyersburg, Tennessee\",earthquake,0.48,1.25,0.09,9,reviewed,nm,nm\\n2020-10-12T14:41:42.180Z,36.1688333,-89.4633333,11.87,2.06,md,36,44,0.03136,0.07,nm,nm60311932,2020-10-12T15:29:06.870Z,\"10 km SSE of Ridgely, Tennessee\",earthquake,0.24,0.33,0.096,30,reviewed,nm,nm\\n2020-10-12T11:33:20.900Z,36.345,-89.5166667,5.33,1.33,md,15,75,0.01536,0.04,nm,nm60311927,2020-10-12T13:27:57.710Z,\"5 km SW of Tiptonville, Tennessee\",earthquake,0.29,0.57,0.07,11,reviewed,nm,nm\\n2020-10-12T05:37:13.920Z,36.2971667,-89.5356667,10.26,1.45,md,18,49,0.03705,0.06,nm,nm60311917,2020-10-12T13:35:31.180Z,\"5 km NW of Ridgely, Tennessee\",earthquake,0.41,0.71,0.028,12,reviewed,nm,nm\\n2020-10-12T04:16:27.060Z,36.2958333,-89.5341667,9.91,1.39,md,21,49,0.03885,0.07,nm,nm60311907,2020-10-12T13:47:48.640Z,\"5 km NW of Ridgely, Tennessee\",earthquake,0.19,0.37,0.091,15,reviewed,nm,nm\\n2020-10-12T01:35:46.340Z,36.4376667,-90.831,9.91,2.63,md,30,69,0.4503,0.2,nm,nm60311892,2020-10-13T21:38:21.040Z,\"6 km ENE of Maynard, Arkansas\",earthquake,0.34,2.09,0.076,24,reviewed,nm,nm\\n2020-10-12T01:33:33.900Z,36.5676667,-89.6171667,9.13,1.53,md,28,36,0.05122,0.03,nm,nm60311897,2020-10-12T15:01:37.020Z,\"1 km W of Howardville, Missouri\",earthquake,0.76,0.89,0.124,22,reviewed,nm,nm\\n2020-10-11T07:01:39.940Z,36.54,-89.5971667,8.36,1.34,md,20,69,0.03532,0.04,nm,nm60311882,2020-10-12T17:18:14.510Z,\"2 km NNE of Marston, Missouri\",earthquake,0.4,0.67,0.281,16,reviewed,nm,nm\\n2020-10-10T16:36:23.340Z,36.2091667,-89.4773333,6.7,1.13,md,10,83,0.043,0.04,nm,nm60311862,2020-10-12T17:58:08.020Z,\"6 km S of Ridgely, Tennessee\",earthquake,0.37,0.74,0.12,5,reviewed,nm,nm\\n2020-10-10T13:14:29.700Z,36.2761667,-89.5078333,9.11,1.36,md,22,54,0.02029,0.06,nm,nm60311842,2020-10-15T17:47:57.940Z,\"2 km NW of Ridgely, Tennessee\",earthquake,0.23,0.42,0.073,17,reviewed,nm,nm\\n2020-10-09T10:14:38.390Z,36.2225,-89.4378333,7.74,1.26,md,14,55,0.01605,0.06,nm,nm60311797,2020-10-09T13:01:36.170Z,\"6 km SE of Ridgely, Tennessee\",earthquake,0.39,0.64,0.053,10,reviewed,nm,nm\\n2020-10-08T18:25:50.050Z,36.2406667,-89.486,9.76,1.38,md,24,35,0.02535,0.04,nm,nm60311752,2020-10-09T15:46:07.330Z,\"2 km S of Ridgely, Tennessee\",earthquake,0.29,0.51,0.13,16,reviewed,nm,nm\\n2020-10-08T18:11:52.820Z,36.4261667,-90.8245,8.57,2.56,md,9,144,0.4442,0.16,nm,nm60114723,2020-10-14T15:32:45.040Z,\"6 km E of Maynard, Arkansas\",earthquake,0.48,1.29,0.14,7,reviewed,nm,nm\\n2020-10-08T03:03:08.600Z,36.4305,-90.8251667,9.64,2.39,md,11,92,0.4473,0.14,nm,nm60114623,2020-10-08T12:05:45.520Z,\"6 km E of Maynard, Arkansas\",earthquake,0.41,3.01,0.156,7,reviewed,nm,nm\\n2020-10-07T19:39:51.280Z,36.4278333,-90.8225,12.14,2.43,md,10,92,0.4465,0.14,nm,nm60114523,2020-10-07T21:10:31.040Z,\"6 km E of Maynard, Arkansas\",earthquake,0.44,1.6,0.065,8,reviewed,nm,nm\\n2020-10-07T15:41:39.320Z,36.4308333,-90.8266667,6.41,2.61,md,8,154,0.4469,0.07,nm,nm60114323,2020-10-07T21:14:44.040Z,\"6 km E of Maynard, Arkansas\",earthquake,0.35,0.82,0.108,6,reviewed,nm,nm\\n2020-10-07T12:18:55.520Z,36.4313333,-90.8265,12.38,2.57,md,12,92,0.4473,0.24,nm,nm60114233,2020-10-08T01:01:46.631Z,\"6 km ENE of Maynard, Arkansas\",earthquake,0.58,1.46,0.094,12,reviewed,nm,nm\\n2020-10-07T04:08:32.020Z,36.246,-89.455,7.43,1.25,md,11,77,0.03211,0.02,nm,nm60311622,2020-10-14T16:31:26.850Z,\"3 km ESE of Ridgely, Tennessee\",earthquake,0.34,0.61,0.058,9,reviewed,nm,nm\\n2020-10-06T23:52:19.990Z,36.4298333,-90.8261667,8.04,2.6,md,9,127,0.4463,0.12,nm,nm60114223,2020-10-07T22:43:39.040Z,\"6 km E of Maynard, Arkansas\",earthquake,0.37,1.98,0.115,7,reviewed,nm,nm\\n2020-10-06T20:54:09.480Z,36.4291667,-90.8206667,4.99,2.43,md,7,148,0.4484,0.11,nm,nm60114228,2020-10-07T15:15:42.780Z,\"6 km E of Maynard, Arkansas\",earthquake,0.54,8.81,0.05,4,reviewed,nm,nm\\n2020-10-06T14:11:31.660Z,36.4313333,-90.8328333,12.84,2.64,md,9,82,0.4443,0.38,nm,nm60114133,2020-10-07T06:52:37.488Z,\"5 km ENE of Maynard, Arkansas\",earthquake,0.97,1.56,0.184,8,reviewed,nm,nm\\n2020-10-06T09:31:09.120Z,36.2146667,-89.6113333,6.22,1.41,md,23,49,0.05516,0.04,nm,nm60311607,2020-10-06T13:21:48.570Z,\"4 km ENE of Caruthersville, Missouri\",earthquake,0.77,1.38,0.081,13,reviewed,nm,nm\\n2020-10-06T08:45:43.230Z,36.4755,-89.5588333,9.56,1.31,md,20,104,0.06129,0.04,nm,nm60311602,2020-10-06T13:38:32.380Z,\"6 km SE of Marston, Missouri\",earthquake,0.55,0.87,0.101,16,reviewed,nm,nm\\n2020-10-06T04:20:18.480Z,36.4315,-90.834,9.26,2.52,md,14,92,0.4439,0.26,nm,nm60114423,2020-10-07T17:57:16.810Z,\"5 km ENE of Maynard, Arkansas\",earthquake,0.77,2.42,0.146,11,reviewed,nm,nm\\n2020-10-06T02:40:52.550Z,36.4623333,-89.5485,8.84,1.34,md,27,42,0.06526,0.05,nm,nm60311592,2020-10-06T15:03:28.140Z,\"8 km SE of Marston, Missouri\",earthquake,0.53,0.86,0.138,17,reviewed,nm,nm\\n2020-10-06T00:54:34.130Z,36.427,-90.8236667,9.88,2.42,md,8,135,0.4452,0.13,nm,nm60114428,2020-10-07T18:08:25.130Z,\"6 km E of Maynard, Arkansas\",earthquake,0.4,3.58,0.093,6,reviewed,nm,nm\\n2020-10-06T00:13:45.750Z,35.5796667,-89.8268333,12.82,2.31,md,39,58,0.1537,0.15,nm,nm60311587,2020-10-10T02:03:33.625Z,\"3 km N of Gilt Edge, Tennessee\",earthquake,0.25,0.62,0.122,23,reviewed,nm,nm\\n2020-10-05T23:18:04.590Z,36.4306667,-90.8301667,8.17,2.62,md,7,92,0.4451,0.13,nm,nm60114433,2020-10-10T02:17:30.040Z,\"6 km ENE of Maynard, Arkansas\",earthquake,0.46,1.71,0.057,5,reviewed,nm,nm\\n2020-10-05T22:07:18.600Z,36.4281667,-90.8271667,10.54,2.51,md,6,154,0.4445,0.13,nm,nm60114438,2020-10-10T02:45:24.724Z,\"6 km E of Maynard, Arkansas\",earthquake,0.58,4.32,0.037,4,reviewed,nm,nm\\n2020-10-04T08:05:52.220Z,33.9226667,-92.0745,9.6,2.06,md,11,79,0.2516,0.16,nm,nm60311457,2020-10-04T19:30:05.764Z,\"11 km ESE of Rison, Arkansas\",earthquake,0.38,1.06,0.166,10,reviewed,nm,nm\\n2020-10-03T16:36:34.340Z,36.0963333,-89.5425,14.78,2.3,md,45,35,0.04197,0.11,nm,nm60311382,2020-10-04T14:02:48.430Z,\"14 km SE of Caruthersville, Missouri\",earthquake,0.14,0.32,0.141,31,reviewed,nm,nm\\n2020-10-02T16:11:33.520Z,36.348,-89.5146667,8.84,0.97,md,6,185,0.01345,0,nm,nm60311257,2020-10-06T15:07:59.350Z,\"5 km SW of Tiptonville, Tennessee\",earthquake,1.79,1.5,0.056,4,reviewed,nm,nm\\n2020-10-02T09:02:35.300Z,36.344,-89.465,5.03,1.96,md,28,43,0.02694,0.08,nm,nm60311247,2020-10-02T12:47:34.960Z,\"3 km S of Tiptonville, Tennessee\",earthquake,0.17,0.38,0.12,23,reviewed,nm,nm\\n2020-10-02T04:47:29.450Z,36.5503333,-89.6515,7.93,2.25,md,46,46,0.02471,0.12,nm,nm60311237,2020-10-02T14:17:21.040Z,\"4 km NW of Marston, Missouri\",earthquake,0.14,0.35,0.181,40,reviewed,nm,nm\\n2020-10-01T23:39:46.040Z,36.489,-89.5631667,9.52,1.61,md,17,70,0.05274,0.05,nm,nm60311232,2020-10-06T15:24:00.040Z,\"5 km SE of Marston, Missouri\",earthquake,0.41,0.74,0.093,15,reviewed,nm,nm\\n2020-10-01T08:34:21.260Z,36.225,-89.4395,8.09,1.26,md,18,54,0.01629,0.05,nm,nm60311127,2020-10-01T17:09:42.540Z,\"6 km SE of Ridgely, Tennessee\",earthquake,0.24,0.5,0.058,10,reviewed,nm,nm\\n2020-10-01T07:32:33.010Z,36.1493333,-89.3971667,8.59,1.31,md,12,88,0.05578,0.26,nm,nm60311122,2020-10-01T16:40:34.780Z,\"12 km N of Dyersburg, Tennessee\",earthquake,0.75,1.69,0.054,7,reviewed,nm,nm\\n2020-09-30T21:41:38.620Z,35.3611667,-90.7225,0.01,2.16,md,16,178,0.08971,0.34,nm,nm60311112,2020-10-01T16:06:51.900Z,\"5 km SSE of Cherry Valley, Arkansas\",earthquake,0.97,0.12,0.063,7,reviewed,nm,nm\\n2020-09-30T12:28:58.430Z,36.1636667,-89.6768333,6.61,1.76,md,23,52,0.0481,0.03,nm,nm60330416,2020-09-30T14:10:12.240Z,\"3 km SSW of Caruthersville, Missouri\",earthquake,0.35,1.39,0.139,12,reviewed,nm,nm\\n2020-09-29T01:27:52.010Z,36.4648333,-89.5768333,11.21,2.24,md,39,40,0.04382,0.09,nm,nm60330201,2020-09-29T14:28:47.619Z,\"6 km SSE of Marston, Missouri\",earthquake,0.15,0.33,0.099,37,reviewed,nm,nm\\n2020-09-28T15:10:34.270Z,36.2441667,-89.4188333,6.88,1.36,md,12,72,0.01399,0.07,nm,nm60330046,2020-09-30T12:58:41.640Z,\"6 km ESE of Ridgely, Tennessee\",earthquake,0.6,1.03,0.044,7,reviewed,nm,nm\\n2020-09-28T04:04:21.480Z,36.5321667,-89.5895,10.5,1.84,md,33,42,0.06338,0.02,nm,nm60329956,2020-09-28T17:47:49.180Z,\"2 km NE of Marston, Missouri\",earthquake,0.45,0.51,0.15,23,reviewed,nm,nm\\n2020-09-27T11:29:09.560Z,36.1228333,-89.7415,6.95,1.8,md,22,66,0.0321,0.17,nm,nm60329841,2020-09-27T15:31:31.870Z,\"9 km ENE of Steele, Missouri\",earthquake,0.86,1.55,0.117,14,reviewed,nm,nm\\n2020-09-26T23:15:11.910Z,36.2441667,-89.4176667,7.14,2.47,md,35,62,0.01411,0.08,nm,nm60329796,2020-10-08T22:22:27.040Z,\"6 km ESE of Ridgely, Tennessee\",earthquake,0.16,0.4,0.125,33,reviewed,nm,nm\\n2020-09-26T21:54:35.340Z,36.2436667,-89.4178333,6.92,2.1,md,32,62,0.0136,0.07,nm,nm60329761,2020-10-06T13:02:44.470Z,\"6 km ESE of Ridgely, Tennessee\",earthquake,0.15,0.35,0.11,24,reviewed,nm,nm\\n2020-09-26T06:07:26.150Z,36.5345,-89.5026667,5.25,2.04,md,34,56,0.06655,0.03,nm,nm60329641,2020-09-27T19:15:01.215Z,\"6 km SSE of New Madrid, Missouri\",earthquake,0.6,1.18,0.107,24,reviewed,nm,nm\\n2020-09-25T05:56:12.820Z,36.4968333,-89.5451667,9.31,1.67,md,31,46,0.0815,0.03,nm,nm60329636,2020-09-25T15:02:18.350Z,\"6 km ESE of Marston, Missouri\",earthquake,0.48,0.73,0.103,18,reviewed,nm,nm\\n2020-09-25T00:41:19.620Z,36.2451667,-89.416,6.48,2.26,md,30,63,0.01535,0.08,nm,nm60329626,2020-09-25T12:48:55.830Z,\"6 km ESE of Ridgely, Tennessee\",earthquake,0.18,0.44,0.127,25,reviewed,nm,nm\\n2020-09-24T11:01:04.910Z,36.3503333,-89.5403333,11.08,1.81,md,29,34,0.03341,0.02,nm,nm60329566,2020-09-24T12:36:12.820Z,\"southeastern Missouri\",earthquake,0.74,0.61,0.112,25,reviewed,nm,nm\\n2020-09-24T07:26:52.280Z,36.243,-89.4176667,6.9,2.23,md,28,61,0.01296,0.07,nm,nm60329556,2020-09-25T02:36:24.659Z,\"southeastern Missouri\",earthquake,0.15,0.42,0.051,24,reviewed,nm,nm\\n2020-09-23T03:34:28.520Z,36.244,-89.4188333,6.78,1.6,md,12,61,0.01383,0.04,nm,nm60329511,2020-09-23T14:10:28.430Z,\"6 km ESE of Ridgely, Tennessee\",earthquake,0.41,0.91,0.048,9,reviewed,nm,nm\\n2020-09-22T07:36:45.990Z,36.2981667,-89.531,8.92,1.64,md,20,52,0.03902,0.06,nm,nm60329486,2020-09-22T18:11:08.570Z,\"5 km NW of Ridgely, Tennessee\",earthquake,0.47,0.64,0.126,13,reviewed,nm,nm\\n2020-09-22T00:30:07.510Z,36.501,-89.5771667,5.29,2.57,md,42,42,0.06534,0.12,nm,nm60329471,2020-09-23T05:32:11.043Z,\"3 km ESE of Marston, Missouri\",earthquake,0.17,0.67,0.129,37,reviewed,nm,nm\\n2020-09-21T16:28:47.340Z,36.4795,-89.5428333,7.74,1.76,md,25,43,0.0747,0.02,nm,nm60329421,2020-09-21T18:17:21.800Z,\"7 km SE of Marston, Missouri\",earthquake,0.54,0.92,0.105,17,reviewed,nm,nm\\n'"
      ]
     },
     "execution_count": 27,
     "metadata": {},
     "output_type": "execute_result"
    }
   ],
   "source": [
    "r.text"
   ]
  },
  {
   "cell_type": "code",
   "execution_count": 29,
   "metadata": {},
   "outputs": [],
   "source": [
    "from io import StringIO"
   ]
  },
  {
   "cell_type": "code",
   "execution_count": 30,
   "metadata": {},
   "outputs": [],
   "source": [
    "nm_eq = pd.read_csv(StringIO(r.text))"
   ]
  },
  {
   "cell_type": "code",
   "execution_count": 31,
   "metadata": {},
   "outputs": [
    {
     "data": {
      "text/html": [
       "<div>\n",
       "<style scoped>\n",
       "    .dataframe tbody tr th:only-of-type {\n",
       "        vertical-align: middle;\n",
       "    }\n",
       "\n",
       "    .dataframe tbody tr th {\n",
       "        vertical-align: top;\n",
       "    }\n",
       "\n",
       "    .dataframe thead th {\n",
       "        text-align: right;\n",
       "    }\n",
       "</style>\n",
       "<table border=\"1\" class=\"dataframe\">\n",
       "  <thead>\n",
       "    <tr style=\"text-align: right;\">\n",
       "      <th></th>\n",
       "      <th>time</th>\n",
       "      <th>latitude</th>\n",
       "      <th>longitude</th>\n",
       "      <th>depth</th>\n",
       "      <th>mag</th>\n",
       "      <th>magType</th>\n",
       "      <th>nst</th>\n",
       "      <th>gap</th>\n",
       "      <th>dmin</th>\n",
       "      <th>rms</th>\n",
       "      <th>...</th>\n",
       "      <th>updated</th>\n",
       "      <th>place</th>\n",
       "      <th>type</th>\n",
       "      <th>horizontalError</th>\n",
       "      <th>depthError</th>\n",
       "      <th>magError</th>\n",
       "      <th>magNst</th>\n",
       "      <th>status</th>\n",
       "      <th>locationSource</th>\n",
       "      <th>magSource</th>\n",
       "    </tr>\n",
       "  </thead>\n",
       "  <tbody>\n",
       "    <tr>\n",
       "      <th>0</th>\n",
       "      <td>2020-10-20T18:50:21.820Z</td>\n",
       "      <td>36.273666</td>\n",
       "      <td>-89.515999</td>\n",
       "      <td>7.42</td>\n",
       "      <td>2.28</td>\n",
       "      <td>md</td>\n",
       "      <td>19</td>\n",
       "      <td>51</td>\n",
       "      <td>0.17350</td>\n",
       "      <td>0.22</td>\n",
       "      <td>...</td>\n",
       "      <td>2020-10-20T18:59:10.420Z</td>\n",
       "      <td>2 km WNW of Ridgely, Tennessee</td>\n",
       "      <td>earthquake</td>\n",
       "      <td>0.45</td>\n",
       "      <td>1.77</td>\n",
       "      <td>0.290</td>\n",
       "      <td>12</td>\n",
       "      <td>reviewed</td>\n",
       "      <td>nm</td>\n",
       "      <td>nm</td>\n",
       "    </tr>\n",
       "    <tr>\n",
       "      <th>1</th>\n",
       "      <td>2020-10-20T04:56:57.790Z</td>\n",
       "      <td>36.458000</td>\n",
       "      <td>-89.532167</td>\n",
       "      <td>8.67</td>\n",
       "      <td>1.48</td>\n",
       "      <td>md</td>\n",
       "      <td>26</td>\n",
       "      <td>42</td>\n",
       "      <td>0.07238</td>\n",
       "      <td>0.05</td>\n",
       "      <td>...</td>\n",
       "      <td>2020-10-20T16:50:36.840Z</td>\n",
       "      <td>9 km SE of Marston, Missouri</td>\n",
       "      <td>earthquake</td>\n",
       "      <td>0.81</td>\n",
       "      <td>1.09</td>\n",
       "      <td>0.112</td>\n",
       "      <td>18</td>\n",
       "      <td>reviewed</td>\n",
       "      <td>nm</td>\n",
       "      <td>nm</td>\n",
       "    </tr>\n",
       "    <tr>\n",
       "      <th>2</th>\n",
       "      <td>2020-10-19T20:31:16.660Z</td>\n",
       "      <td>36.419667</td>\n",
       "      <td>-89.499000</td>\n",
       "      <td>7.78</td>\n",
       "      <td>1.30</td>\n",
       "      <td>md</td>\n",
       "      <td>16</td>\n",
       "      <td>87</td>\n",
       "      <td>0.03247</td>\n",
       "      <td>0.02</td>\n",
       "      <td>...</td>\n",
       "      <td>2020-10-20T19:06:10.270Z</td>\n",
       "      <td>southeastern Missouri</td>\n",
       "      <td>earthquake</td>\n",
       "      <td>0.35</td>\n",
       "      <td>0.62</td>\n",
       "      <td>0.101</td>\n",
       "      <td>13</td>\n",
       "      <td>reviewed</td>\n",
       "      <td>nm</td>\n",
       "      <td>nm</td>\n",
       "    </tr>\n",
       "    <tr>\n",
       "      <th>3</th>\n",
       "      <td>2020-10-19T05:15:25.090Z</td>\n",
       "      <td>36.209500</td>\n",
       "      <td>-89.476167</td>\n",
       "      <td>6.33</td>\n",
       "      <td>1.59</td>\n",
       "      <td>md</td>\n",
       "      <td>16</td>\n",
       "      <td>59</td>\n",
       "      <td>0.04374</td>\n",
       "      <td>0.05</td>\n",
       "      <td>...</td>\n",
       "      <td>2020-10-19T13:03:45.780Z</td>\n",
       "      <td>6 km S of Ridgely, Tennessee</td>\n",
       "      <td>earthquake</td>\n",
       "      <td>0.26</td>\n",
       "      <td>0.56</td>\n",
       "      <td>0.086</td>\n",
       "      <td>14</td>\n",
       "      <td>reviewed</td>\n",
       "      <td>nm</td>\n",
       "      <td>nm</td>\n",
       "    </tr>\n",
       "    <tr>\n",
       "      <th>4</th>\n",
       "      <td>2020-10-17T20:09:11.850Z</td>\n",
       "      <td>36.601333</td>\n",
       "      <td>-89.579667</td>\n",
       "      <td>10.79</td>\n",
       "      <td>1.22</td>\n",
       "      <td>md</td>\n",
       "      <td>18</td>\n",
       "      <td>51</td>\n",
       "      <td>0.02594</td>\n",
       "      <td>0.07</td>\n",
       "      <td>...</td>\n",
       "      <td>2020-10-19T14:08:45.320Z</td>\n",
       "      <td>3 km ENE of Lilbourn, Missouri</td>\n",
       "      <td>earthquake</td>\n",
       "      <td>0.54</td>\n",
       "      <td>0.96</td>\n",
       "      <td>0.053</td>\n",
       "      <td>12</td>\n",
       "      <td>reviewed</td>\n",
       "      <td>nm</td>\n",
       "      <td>nm</td>\n",
       "    </tr>\n",
       "  </tbody>\n",
       "</table>\n",
       "<p>5 rows × 22 columns</p>\n",
       "</div>"
      ],
      "text/plain": [
       "                       time   latitude  longitude  depth   mag magType  nst  \\\n",
       "0  2020-10-20T18:50:21.820Z  36.273666 -89.515999   7.42  2.28      md   19   \n",
       "1  2020-10-20T04:56:57.790Z  36.458000 -89.532167   8.67  1.48      md   26   \n",
       "2  2020-10-19T20:31:16.660Z  36.419667 -89.499000   7.78  1.30      md   16   \n",
       "3  2020-10-19T05:15:25.090Z  36.209500 -89.476167   6.33  1.59      md   16   \n",
       "4  2020-10-17T20:09:11.850Z  36.601333 -89.579667  10.79  1.22      md   18   \n",
       "\n",
       "   gap     dmin   rms  ...                   updated  \\\n",
       "0   51  0.17350  0.22  ...  2020-10-20T18:59:10.420Z   \n",
       "1   42  0.07238  0.05  ...  2020-10-20T16:50:36.840Z   \n",
       "2   87  0.03247  0.02  ...  2020-10-20T19:06:10.270Z   \n",
       "3   59  0.04374  0.05  ...  2020-10-19T13:03:45.780Z   \n",
       "4   51  0.02594  0.07  ...  2020-10-19T14:08:45.320Z   \n",
       "\n",
       "                            place        type horizontalError depthError  \\\n",
       "0  2 km WNW of Ridgely, Tennessee  earthquake            0.45       1.77   \n",
       "1    9 km SE of Marston, Missouri  earthquake            0.81       1.09   \n",
       "2           southeastern Missouri  earthquake            0.35       0.62   \n",
       "3    6 km S of Ridgely, Tennessee  earthquake            0.26       0.56   \n",
       "4  3 km ENE of Lilbourn, Missouri  earthquake            0.54       0.96   \n",
       "\n",
       "   magError  magNst    status  locationSource magSource  \n",
       "0     0.290      12  reviewed              nm        nm  \n",
       "1     0.112      18  reviewed              nm        nm  \n",
       "2     0.101      13  reviewed              nm        nm  \n",
       "3     0.086      14  reviewed              nm        nm  \n",
       "4     0.053      12  reviewed              nm        nm  \n",
       "\n",
       "[5 rows x 22 columns]"
      ]
     },
     "execution_count": 31,
     "metadata": {},
     "output_type": "execute_result"
    }
   ],
   "source": [
    "nm_eq.head()"
   ]
  },
  {
   "cell_type": "code",
   "execution_count": 32,
   "metadata": {},
   "outputs": [
    {
     "data": {
      "text/plain": [
       "(66, 22)"
      ]
     },
     "execution_count": 32,
     "metadata": {},
     "output_type": "execute_result"
    }
   ],
   "source": [
    "nm_eq.shape"
   ]
  },
  {
   "cell_type": "code",
   "execution_count": 34,
   "metadata": {},
   "outputs": [
    {
     "data": {
      "text/plain": [
       "'2020-10-20T18:50:21.820Z'"
      ]
     },
     "execution_count": 34,
     "metadata": {},
     "output_type": "execute_result"
    }
   ],
   "source": [
    "nm_eq.time.max()"
   ]
  },
  {
   "cell_type": "code",
   "execution_count": 35,
   "metadata": {},
   "outputs": [
    {
     "data": {
      "text/plain": [
       "'2020-09-21T16:28:47.340Z'"
      ]
     },
     "execution_count": 35,
     "metadata": {},
     "output_type": "execute_result"
    }
   ],
   "source": [
    "nm_eq.time.min()"
   ]
  },
  {
   "cell_type": "code",
   "execution_count": null,
   "metadata": {},
   "outputs": [],
   "source": []
  }
 ],
 "metadata": {
  "kernelspec": {
   "display_name": "Python 3",
   "language": "python",
   "name": "python3"
  },
  "language_info": {
   "codemirror_mode": {
    "name": "ipython",
    "version": 3
   },
   "file_extension": ".py",
   "mimetype": "text/x-python",
   "name": "python",
   "nbconvert_exporter": "python",
   "pygments_lexer": "ipython3",
   "version": "3.8.3"
  }
 },
 "nbformat": 4,
 "nbformat_minor": 4
}
